{
 "cells": [
  {
   "cell_type": "code",
   "execution_count": 12,
   "id": "f6bf49a9",
   "metadata": {},
   "outputs": [
    {
     "data": {
      "text/plain": [
       "'Plant is suffering from Brown Spot.Application of edifenphos, chitosan, iprodione, or carbendazim in the field is also advisable.Spray Mancozeb (2.0g/lit) or Edifenphos (1ml/lit) - 2 to 3 times at 10 - 15 day intervals.Grisepfulvin, Nystatin, Aureofungin, and similar antibiotics have been found effective in preventing primary seedling infection.'"
      ]
     },
     "execution_count": 12,
     "metadata": {},
     "output_type": "execute_result"
    }
   ],
   "source": [
    "import pickle\n",
    "import numpy as np\n",
    "from tensorflow.keras.preprocessing.image import ImageDataGenerator,load_img\n",
    "import json\n",
    "import requests\n",
    "import PIL\n",
    "import matplotlib.pyplot as plt\n",
    "\n",
    "img=np.array(load_img(\"C:/Users/Geeth/Downloads/LF/his.jpg\").resize((224,224))).tolist()   #Testing image url in ______\n",
    "\n",
    "url='http://127.0.0.1:5000/model'\n",
    "\n",
    "\n",
    "requested_data=json.dumps({'img':img})\n",
    "response = requests.post(url,requested_data)\n",
    "response.text\n",
    " \n",
    "  \n"
   ]
  },
  {
   "cell_type": "code",
   "execution_count": null,
   "id": "a7312316",
   "metadata": {},
   "outputs": [],
   "source": []
  }
 ],
 "metadata": {
  "kernelspec": {
   "display_name": "Python 3 (ipykernel)",
   "language": "python",
   "name": "python3"
  },
  "language_info": {
   "codemirror_mode": {
    "name": "ipython",
    "version": 3
   },
   "file_extension": ".py",
   "mimetype": "text/x-python",
   "name": "python",
   "nbconvert_exporter": "python",
   "pygments_lexer": "ipython3",
   "version": "3.9.12"
  }
 },
 "nbformat": 4,
 "nbformat_minor": 5
}
