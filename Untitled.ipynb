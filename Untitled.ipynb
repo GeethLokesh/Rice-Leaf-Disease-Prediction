{
 "cells": [
  {
   "cell_type": "code",
   "execution_count": null,
   "id": "db08c992",
   "metadata": {},
   "outputs": [
    {
     "name": "stdout",
     "output_type": "stream",
     "text": [
      " * Serving Flask app \"__main__\" (lazy loading)\n",
      " * Environment: production\n",
      "\u001b[31m   WARNING: This is a development server. Do not use it in a production deployment.\u001b[0m\n",
      "\u001b[2m   Use a production WSGI server instead.\u001b[0m\n",
      " * Debug mode: off\n"
     ]
    },
    {
     "name": "stderr",
     "output_type": "stream",
     "text": [
      " * Running on http://127.0.0.1:5000/ (Press CTRL+C to quit)\n"
     ]
    },
    {
     "name": "stdout",
     "output_type": "stream",
     "text": [
      "1/1 [==============================] - 7s 7s/step\n"
     ]
    },
    {
     "name": "stderr",
     "output_type": "stream",
     "text": [
      "127.0.0.1 - - [27/Oct/2022 18:06:53] \"POST /model HTTP/1.1\" 200 -\n"
     ]
    }
   ],
   "source": [
    "from flask import Flask,request\n",
    "from tensorflow.keras.models import Model\n",
    "from tensorflow.keras.models import Model,Sequential,load_model\n",
    "import pickle\n",
    "import numpy as np\n",
    "from tensorflow.keras.preprocessing.image import ImageDataGenerator,load_img\n",
    "\n",
    "\n",
    "model=load_model(\"C:/Users/Geeth/Downloads/LF/Models-20221015T095138Z-001/Models/ResNet50_rice_latest.h5\")\n",
    "\n",
    "\n",
    "app=Flask(__name__)\n",
    "@app.route('/model',methods=['POST'])\n",
    "def serve_model():\n",
    "    requested_data=request.get_json(force=True)\n",
    "    img=requested_data[\"img\"]\n",
    "    img=np.array(img).reshape(-1,224,224,3)\n",
    "    prediction=[model.predict(img).argmax()]\n",
    "    if prediction==[0]:\n",
    "        return (\"Plant is suffering from Bacterial Leaf Blight. Use balanced amounts of plant nutrients, especially nitrogen. Ensure good drainage of fields in conventionally flooded crops and nurseries. Keep fields clean. Remove weed hosts and plow under rice stubble straw rice ratoons and volunteer seedlings which can serve as hosts of bacteria.Allow fallow fields to dry in order to suppress disease agents in the soil and plant residues\")\n",
    "        \n",
    "    elif prediction==[1]:\n",
    "        return (\"Plant is suffering from Brown Spot.Application of edifenphos, chitosan, iprodione, or carbendazim in the field is also advisable.Spray Mancozeb (2.0g/lit) or Edifenphos (1ml/lit) - 2 to 3 times at 10 - 15 day intervals.Grisepfulvin, Nystatin, Aureofungin, and similar antibiotics have been found effective in preventing primary seedling infection.\")\n",
    "    \n",
    "    elif prediction==[2]:\n",
    "        return (\"Plant is Healthy\")\n",
    "    \n",
    "    elif prediction==[3]:\n",
    "        return (\"Plant is suffering from Hispa.Avoid over fertilizing the field.Close plant spacing results in greater leaf densities that can tolerate higher hispa numbers.Leaf tip containing blotch mines should be destroyed.Manual collection and killing of beetles – hand nets.To prevent egg laying of the pests, the shoot tips can be cut.Clipping and burying shoots in the mud can reduce grub populations by 75 - 92%.Spraying of methyl parathion 0.05% or Quinalphos 0.05%.\")\n",
    "    \n",
    "    else:\n",
    "        return (\"Plant is suffering from LeafBlast.Prepare to use fungicide,Systemic fungicides like triazoles and strobilurins can be used to control blast.Silicon fertilizers (e.g., calcium silicate) can be applied to soils that are silicon deficient to reduce blast.Avoid excessive nitrogen application rates and apply no more than 30 pounds per acre of nitrogen per application at midseason.\")\n",
    "       \n",
    "    \n",
    "\n",
    "\n",
    "if  __name__ == \"__main__\":\n",
    "    app.run()\n"
   ]
  },
  {
   "cell_type": "code",
   "execution_count": null,
   "id": "57c855c3",
   "metadata": {},
   "outputs": [],
   "source": []
  }
 ],
 "metadata": {
  "kernelspec": {
   "display_name": "Python 3 (ipykernel)",
   "language": "python",
   "name": "python3"
  },
  "language_info": {
   "codemirror_mode": {
    "name": "ipython",
    "version": 3
   },
   "file_extension": ".py",
   "mimetype": "text/x-python",
   "name": "python",
   "nbconvert_exporter": "python",
   "pygments_lexer": "ipython3",
   "version": "3.9.12"
  }
 },
 "nbformat": 4,
 "nbformat_minor": 5
}
